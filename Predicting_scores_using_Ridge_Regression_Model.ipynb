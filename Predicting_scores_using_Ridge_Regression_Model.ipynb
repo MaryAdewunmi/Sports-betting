{
  "nbformat": 4,
  "nbformat_minor": 0,
  "metadata": {
    "colab": {
      "name": "Predicting scores using Ridge Regression Model",
      "provenance": [],
      "authorship_tag": "ABX9TyNyvQfl4Kex97xfr5OxPAgq",
      "include_colab_link": true
    },
    "kernelspec": {
      "name": "python3",
      "display_name": "Python 3"
    }
  },
  "cells": [
    {
      "cell_type": "markdown",
      "metadata": {
        "id": "view-in-github",
        "colab_type": "text"
      },
      "source": [
        "<a href=\"https://colab.research.google.com/github/MaryAdewunmi/Sports-betting/blob/main/Predicting_scores_using_Ridge_Regression_Model.ipynb\" target=\"_parent\"><img src=\"https://colab.research.google.com/assets/colab-badge.svg\" alt=\"Open In Colab\"/></a>"
      ]
    },
    {
      "cell_type": "code",
      "metadata": {
        "id": "OgJcWKN8wrTY"
      },
      "source": [
        "import pandas as pd\n",
        "import numpy as np\n",
        "from sklearn.metrics import accuracy_score\n",
        "from sklearn.linear_model import Ridge\n",
        "\n"
      ],
      "execution_count": 2,
      "outputs": []
    },
    {
      "cell_type": "code",
      "metadata": {
        "colab": {
          "resources": {
            "http://localhost:8080/nbextensions/google.colab/files.js": {
              "data": "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",
              "ok": true,
              "headers": [
                [
                  "content-type",
                  "application/javascript"
                ]
              ],
              "status": 200,
              "status_text": ""
            }
          },
          "base_uri": "https://localhost:8080/",
          "height": 72
        },
        "id": "nhtek0uOx2aE",
        "outputId": "42239a12-9209-49a4-c27f-0b1102a48cda"
      },
      "source": [
        "from google.colab import files\n",
        "uploaded = files.upload()"
      ],
      "execution_count": 3,
      "outputs": [
        {
          "output_type": "display_data",
          "data": {
            "text/html": [
              "\n",
              "     <input type=\"file\" id=\"files-0d94bf01-49b7-4cbf-96e4-dccba4b619ea\" name=\"files[]\" multiple disabled\n",
              "        style=\"border:none\" />\n",
              "     <output id=\"result-0d94bf01-49b7-4cbf-96e4-dccba4b619ea\">\n",
              "      Upload widget is only available when the cell has been executed in the\n",
              "      current browser session. Please rerun this cell to enable.\n",
              "      </output>\n",
              "      <script src=\"/nbextensions/google.colab/files.js\"></script> "
            ],
            "text/plain": [
              "<IPython.core.display.HTML object>"
            ]
          },
          "metadata": {
            "tags": []
          }
        },
        {
          "output_type": "stream",
          "text": [
            "Saving Hockeygames.xlsx to Hockeygames.xlsx\n"
          ],
          "name": "stdout"
        }
      ]
    },
    {
      "cell_type": "code",
      "metadata": {
        "id": "ElKFvsI64pKF"
      },
      "source": [
        "df = pd.read_excel('Hockeygames.xlsx',sheet_name = 'Sheet1',header = 0)\n"
      ],
      "execution_count": 4,
      "outputs": []
    },
    {
      "cell_type": "code",
      "metadata": {
        "id": "ZCqm6CZ66x0d"
      },
      "source": [
        ""
      ],
      "execution_count": 4,
      "outputs": []
    },
    {
      "cell_type": "markdown",
      "metadata": {
        "id": "ctXCk_rv6zBt"
      },
      "source": [
        "***Data Exploration***"
      ]
    },
    {
      "cell_type": "code",
      "metadata": {
        "colab": {
          "base_uri": "https://localhost:8080/",
          "height": 204
        },
        "id": "tHUlyuAn5aZy",
        "outputId": "99f58f2c-c2b2-4f23-e044-e613b17227e3"
      },
      "source": [
        "df.head()"
      ],
      "execution_count": 5,
      "outputs": [
        {
          "output_type": "execute_result",
          "data": {
            "text/html": [
              "<div>\n",
              "<style scoped>\n",
              "    .dataframe tbody tr th:only-of-type {\n",
              "        vertical-align: middle;\n",
              "    }\n",
              "\n",
              "    .dataframe tbody tr th {\n",
              "        vertical-align: top;\n",
              "    }\n",
              "\n",
              "    .dataframe thead th {\n",
              "        text-align: right;\n",
              "    }\n",
              "</style>\n",
              "<table border=\"1\" class=\"dataframe\">\n",
              "  <thead>\n",
              "    <tr style=\"text-align: right;\">\n",
              "      <th></th>\n",
              "      <th>Date</th>\n",
              "      <th>Visitor</th>\n",
              "      <th>VisitorG</th>\n",
              "      <th>Home</th>\n",
              "      <th>HomeG</th>\n",
              "    </tr>\n",
              "  </thead>\n",
              "  <tbody>\n",
              "    <tr>\n",
              "      <th>0</th>\n",
              "      <td>2019-10-02</td>\n",
              "      <td>Vancouver Canucks</td>\n",
              "      <td>2</td>\n",
              "      <td>Edmonton Oilers</td>\n",
              "      <td>3</td>\n",
              "    </tr>\n",
              "    <tr>\n",
              "      <th>1</th>\n",
              "      <td>2019-10-02</td>\n",
              "      <td>Washington Capitals</td>\n",
              "      <td>3</td>\n",
              "      <td>St. Louis Blues</td>\n",
              "      <td>2</td>\n",
              "    </tr>\n",
              "    <tr>\n",
              "      <th>2</th>\n",
              "      <td>2019-10-02</td>\n",
              "      <td>Ottawa Senators</td>\n",
              "      <td>3</td>\n",
              "      <td>Toronto Maple Leafs</td>\n",
              "      <td>5</td>\n",
              "    </tr>\n",
              "    <tr>\n",
              "      <th>3</th>\n",
              "      <td>2019-10-02</td>\n",
              "      <td>San Jose Sharks</td>\n",
              "      <td>1</td>\n",
              "      <td>Vegas Golden Knights</td>\n",
              "      <td>4</td>\n",
              "    </tr>\n",
              "    <tr>\n",
              "      <th>4</th>\n",
              "      <td>2019-10-03</td>\n",
              "      <td>Arizona Coyotes</td>\n",
              "      <td>1</td>\n",
              "      <td>Anaheim Ducks</td>\n",
              "      <td>2</td>\n",
              "    </tr>\n",
              "  </tbody>\n",
              "</table>\n",
              "</div>"
            ],
            "text/plain": [
              "        Date              Visitor  VisitorG                  Home  HomeG\n",
              "0 2019-10-02    Vancouver Canucks         2       Edmonton Oilers      3\n",
              "1 2019-10-02  Washington Capitals         3       St. Louis Blues      2\n",
              "2 2019-10-02      Ottawa Senators         3   Toronto Maple Leafs      5\n",
              "3 2019-10-02      San Jose Sharks         1  Vegas Golden Knights      4\n",
              "4 2019-10-03      Arizona Coyotes         1         Anaheim Ducks      2"
            ]
          },
          "metadata": {
            "tags": []
          },
          "execution_count": 5
        }
      ]
    },
    {
      "cell_type": "code",
      "metadata": {
        "id": "uvjxfLQxx0tB"
      },
      "source": [
        "\n",
        "df['Date'] = pd.to_datetime(df['Date'], format='%Y-%m-%d')"
      ],
      "execution_count": 6,
      "outputs": []
    },
    {
      "cell_type": "code",
      "metadata": {
        "colab": {
          "base_uri": "https://localhost:8080/"
        },
        "id": "ghA0h_uj66iD",
        "outputId": "365c9fd8-e3d9-446c-aa22-efee2f5d5a2f"
      },
      "source": [
        "df.index "
      ],
      "execution_count": 7,
      "outputs": [
        {
          "output_type": "execute_result",
          "data": {
            "text/plain": [
              "RangeIndex(start=0, stop=640, step=1)"
            ]
          },
          "metadata": {
            "tags": []
          },
          "execution_count": 7
        }
      ]
    },
    {
      "cell_type": "code",
      "metadata": {
        "id": "GxVtuxub7L61"
      },
      "source": [
        "df.index +=1"
      ],
      "execution_count": 8,
      "outputs": []
    },
    {
      "cell_type": "code",
      "metadata": {
        "colab": {
          "base_uri": "https://localhost:8080/"
        },
        "id": "kzX8lg2R7Vjs",
        "outputId": "6921e20d-660e-42c2-9a73-a7b9a70255ab"
      },
      "source": [
        "df.index"
      ],
      "execution_count": 9,
      "outputs": [
        {
          "output_type": "execute_result",
          "data": {
            "text/plain": [
              "RangeIndex(start=1, stop=641, step=1)"
            ]
          },
          "metadata": {
            "tags": []
          },
          "execution_count": 9
        }
      ]
    },
    {
      "cell_type": "code",
      "metadata": {
        "colab": {
          "base_uri": "https://localhost:8080/",
          "height": 204
        },
        "id": "geRwbsuX7arG",
        "outputId": "7bed09a6-5250-4945-8b61-8b02ab82a482"
      },
      "source": [
        "df.head()"
      ],
      "execution_count": 10,
      "outputs": [
        {
          "output_type": "execute_result",
          "data": {
            "text/html": [
              "<div>\n",
              "<style scoped>\n",
              "    .dataframe tbody tr th:only-of-type {\n",
              "        vertical-align: middle;\n",
              "    }\n",
              "\n",
              "    .dataframe tbody tr th {\n",
              "        vertical-align: top;\n",
              "    }\n",
              "\n",
              "    .dataframe thead th {\n",
              "        text-align: right;\n",
              "    }\n",
              "</style>\n",
              "<table border=\"1\" class=\"dataframe\">\n",
              "  <thead>\n",
              "    <tr style=\"text-align: right;\">\n",
              "      <th></th>\n",
              "      <th>Date</th>\n",
              "      <th>Visitor</th>\n",
              "      <th>VisitorG</th>\n",
              "      <th>Home</th>\n",
              "      <th>HomeG</th>\n",
              "    </tr>\n",
              "  </thead>\n",
              "  <tbody>\n",
              "    <tr>\n",
              "      <th>1</th>\n",
              "      <td>2019-10-02</td>\n",
              "      <td>Vancouver Canucks</td>\n",
              "      <td>2</td>\n",
              "      <td>Edmonton Oilers</td>\n",
              "      <td>3</td>\n",
              "    </tr>\n",
              "    <tr>\n",
              "      <th>2</th>\n",
              "      <td>2019-10-02</td>\n",
              "      <td>Washington Capitals</td>\n",
              "      <td>3</td>\n",
              "      <td>St. Louis Blues</td>\n",
              "      <td>2</td>\n",
              "    </tr>\n",
              "    <tr>\n",
              "      <th>3</th>\n",
              "      <td>2019-10-02</td>\n",
              "      <td>Ottawa Senators</td>\n",
              "      <td>3</td>\n",
              "      <td>Toronto Maple Leafs</td>\n",
              "      <td>5</td>\n",
              "    </tr>\n",
              "    <tr>\n",
              "      <th>4</th>\n",
              "      <td>2019-10-02</td>\n",
              "      <td>San Jose Sharks</td>\n",
              "      <td>1</td>\n",
              "      <td>Vegas Golden Knights</td>\n",
              "      <td>4</td>\n",
              "    </tr>\n",
              "    <tr>\n",
              "      <th>5</th>\n",
              "      <td>2019-10-03</td>\n",
              "      <td>Arizona Coyotes</td>\n",
              "      <td>1</td>\n",
              "      <td>Anaheim Ducks</td>\n",
              "      <td>2</td>\n",
              "    </tr>\n",
              "  </tbody>\n",
              "</table>\n",
              "</div>"
            ],
            "text/plain": [
              "        Date              Visitor  VisitorG                  Home  HomeG\n",
              "1 2019-10-02    Vancouver Canucks         2       Edmonton Oilers      3\n",
              "2 2019-10-02  Washington Capitals         3       St. Louis Blues      2\n",
              "3 2019-10-02      Ottawa Senators         3   Toronto Maple Leafs      5\n",
              "4 2019-10-02      San Jose Sharks         1  Vegas Golden Knights      4\n",
              "5 2019-10-03      Arizona Coyotes         1         Anaheim Ducks      2"
            ]
          },
          "metadata": {
            "tags": []
          },
          "execution_count": 10
        }
      ]
    },
    {
      "cell_type": "code",
      "metadata": {
        "id": "jFP1Gwto7nOC"
      },
      "source": [
        "df['g_diff'] = df['HomeG'] - df['VisitorG']"
      ],
      "execution_count": 11,
      "outputs": []
    },
    {
      "cell_type": "code",
      "metadata": {
        "colab": {
          "base_uri": "https://localhost:8080/"
        },
        "id": "Y3oJ7mvE71-H",
        "outputId": "b02107d8-b510-4c84-986d-5ce9a400321d"
      },
      "source": [
        "df['g_diff'].head()"
      ],
      "execution_count": 12,
      "outputs": [
        {
          "output_type": "execute_result",
          "data": {
            "text/plain": [
              "1    1\n",
              "2   -1\n",
              "3    2\n",
              "4    3\n",
              "5    1\n",
              "Name: g_diff, dtype: int64"
            ]
          },
          "metadata": {
            "tags": []
          },
          "execution_count": 12
        }
      ]
    },
    {
      "cell_type": "code",
      "metadata": {
        "id": "E8gVmWFG77xy"
      },
      "source": [
        "# create new vcolumn to show home team win or loss result\n",
        "df['home_win'] = np.where(df['g_diff'] > 0, 1, 0)\n",
        "df['home_loss'] = np.where(df['g_diff'] < 0, 1, 0)"
      ],
      "execution_count": 13,
      "outputs": []
    },
    {
      "cell_type": "code",
      "metadata": {
        "colab": {
          "base_uri": "https://localhost:8080/",
          "height": 204
        },
        "id": "aOBaUsEp8dQT",
        "outputId": "c20626c9-d143-452e-fe78-76408706d7dc"
      },
      "source": [
        "df.head()"
      ],
      "execution_count": 14,
      "outputs": [
        {
          "output_type": "execute_result",
          "data": {
            "text/html": [
              "<div>\n",
              "<style scoped>\n",
              "    .dataframe tbody tr th:only-of-type {\n",
              "        vertical-align: middle;\n",
              "    }\n",
              "\n",
              "    .dataframe tbody tr th {\n",
              "        vertical-align: top;\n",
              "    }\n",
              "\n",
              "    .dataframe thead th {\n",
              "        text-align: right;\n",
              "    }\n",
              "</style>\n",
              "<table border=\"1\" class=\"dataframe\">\n",
              "  <thead>\n",
              "    <tr style=\"text-align: right;\">\n",
              "      <th></th>\n",
              "      <th>Date</th>\n",
              "      <th>Visitor</th>\n",
              "      <th>VisitorG</th>\n",
              "      <th>Home</th>\n",
              "      <th>HomeG</th>\n",
              "      <th>g_diff</th>\n",
              "      <th>home_win</th>\n",
              "      <th>home_loss</th>\n",
              "    </tr>\n",
              "  </thead>\n",
              "  <tbody>\n",
              "    <tr>\n",
              "      <th>1</th>\n",
              "      <td>2019-10-02</td>\n",
              "      <td>Vancouver Canucks</td>\n",
              "      <td>2</td>\n",
              "      <td>Edmonton Oilers</td>\n",
              "      <td>3</td>\n",
              "      <td>1</td>\n",
              "      <td>1</td>\n",
              "      <td>0</td>\n",
              "    </tr>\n",
              "    <tr>\n",
              "      <th>2</th>\n",
              "      <td>2019-10-02</td>\n",
              "      <td>Washington Capitals</td>\n",
              "      <td>3</td>\n",
              "      <td>St. Louis Blues</td>\n",
              "      <td>2</td>\n",
              "      <td>-1</td>\n",
              "      <td>0</td>\n",
              "      <td>1</td>\n",
              "    </tr>\n",
              "    <tr>\n",
              "      <th>3</th>\n",
              "      <td>2019-10-02</td>\n",
              "      <td>Ottawa Senators</td>\n",
              "      <td>3</td>\n",
              "      <td>Toronto Maple Leafs</td>\n",
              "      <td>5</td>\n",
              "      <td>2</td>\n",
              "      <td>1</td>\n",
              "      <td>0</td>\n",
              "    </tr>\n",
              "    <tr>\n",
              "      <th>4</th>\n",
              "      <td>2019-10-02</td>\n",
              "      <td>San Jose Sharks</td>\n",
              "      <td>1</td>\n",
              "      <td>Vegas Golden Knights</td>\n",
              "      <td>4</td>\n",
              "      <td>3</td>\n",
              "      <td>1</td>\n",
              "      <td>0</td>\n",
              "    </tr>\n",
              "    <tr>\n",
              "      <th>5</th>\n",
              "      <td>2019-10-03</td>\n",
              "      <td>Arizona Coyotes</td>\n",
              "      <td>1</td>\n",
              "      <td>Anaheim Ducks</td>\n",
              "      <td>2</td>\n",
              "      <td>1</td>\n",
              "      <td>1</td>\n",
              "      <td>0</td>\n",
              "    </tr>\n",
              "  </tbody>\n",
              "</table>\n",
              "</div>"
            ],
            "text/plain": [
              "        Date              Visitor  VisitorG  ... g_diff  home_win  home_loss\n",
              "1 2019-10-02    Vancouver Canucks         2  ...      1         1          0\n",
              "2 2019-10-02  Washington Capitals         3  ...     -1         0          1\n",
              "3 2019-10-02      Ottawa Senators         3  ...      2         1          0\n",
              "4 2019-10-02      San Jose Sharks         1  ...      3         1          0\n",
              "5 2019-10-03      Arizona Coyotes         1  ...      1         1          0\n",
              "\n",
              "[5 rows x 8 columns]"
            ]
          },
          "metadata": {
            "tags": []
          },
          "execution_count": 14
        }
      ]
    },
    {
      "cell_type": "code",
      "metadata": {
        "id": "zvequJDj8zSi"
      },
      "source": [
        "df_Visitor = pd.get_dummies(df['Visitor'], dtype=np.int64)\n",
        "df_Home = pd.get_dummies(df['Home'], dtype=np.int64)"
      ],
      "execution_count": 15,
      "outputs": []
    },
    {
      "cell_type": "code",
      "metadata": {
        "colab": {
          "base_uri": "https://localhost:8080/",
          "height": 258
        },
        "id": "8fY24-cJAPLi",
        "outputId": "05b58bfd-b9f3-497a-9425-8c55e9216707"
      },
      "source": [
        "df_Visitor.head()"
      ],
      "execution_count": 16,
      "outputs": [
        {
          "output_type": "execute_result",
          "data": {
            "text/html": [
              "<div>\n",
              "<style scoped>\n",
              "    .dataframe tbody tr th:only-of-type {\n",
              "        vertical-align: middle;\n",
              "    }\n",
              "\n",
              "    .dataframe tbody tr th {\n",
              "        vertical-align: top;\n",
              "    }\n",
              "\n",
              "    .dataframe thead th {\n",
              "        text-align: right;\n",
              "    }\n",
              "</style>\n",
              "<table border=\"1\" class=\"dataframe\">\n",
              "  <thead>\n",
              "    <tr style=\"text-align: right;\">\n",
              "      <th></th>\n",
              "      <th>Anaheim Ducks</th>\n",
              "      <th>Arizona Coyotes</th>\n",
              "      <th>Boston Bruins</th>\n",
              "      <th>Buffalo Sabres</th>\n",
              "      <th>Calgary Flames</th>\n",
              "      <th>Carolina Hurricanes</th>\n",
              "      <th>Chicago Blackhawks</th>\n",
              "      <th>Colorado Avalanche</th>\n",
              "      <th>Columbus Blue Jackets</th>\n",
              "      <th>Dallas Stars</th>\n",
              "      <th>Detroit Red Wings</th>\n",
              "      <th>Edmonton Oilers</th>\n",
              "      <th>Florida Panthers</th>\n",
              "      <th>Los Angeles Kings</th>\n",
              "      <th>Minnesota Wild</th>\n",
              "      <th>Montreal Canadiens</th>\n",
              "      <th>Nashville Predators</th>\n",
              "      <th>New Jersey Devils</th>\n",
              "      <th>New York Islanders</th>\n",
              "      <th>New York Rangers</th>\n",
              "      <th>Ottawa Senators</th>\n",
              "      <th>Philadelphia Flyers</th>\n",
              "      <th>Pittsburgh Penguins</th>\n",
              "      <th>San Jose Sharks</th>\n",
              "      <th>St. Louis Blues</th>\n",
              "      <th>Tampa Bay Lightning</th>\n",
              "      <th>Toronto Maple Leafs</th>\n",
              "      <th>Vancouver Canucks</th>\n",
              "      <th>Vegas Golden Knights</th>\n",
              "      <th>Washington Capitals</th>\n",
              "      <th>Winnipeg Jets</th>\n",
              "    </tr>\n",
              "  </thead>\n",
              "  <tbody>\n",
              "    <tr>\n",
              "      <th>1</th>\n",
              "      <td>0</td>\n",
              "      <td>0</td>\n",
              "      <td>0</td>\n",
              "      <td>0</td>\n",
              "      <td>0</td>\n",
              "      <td>0</td>\n",
              "      <td>0</td>\n",
              "      <td>0</td>\n",
              "      <td>0</td>\n",
              "      <td>0</td>\n",
              "      <td>0</td>\n",
              "      <td>0</td>\n",
              "      <td>0</td>\n",
              "      <td>0</td>\n",
              "      <td>0</td>\n",
              "      <td>0</td>\n",
              "      <td>0</td>\n",
              "      <td>0</td>\n",
              "      <td>0</td>\n",
              "      <td>0</td>\n",
              "      <td>0</td>\n",
              "      <td>0</td>\n",
              "      <td>0</td>\n",
              "      <td>0</td>\n",
              "      <td>0</td>\n",
              "      <td>0</td>\n",
              "      <td>0</td>\n",
              "      <td>1</td>\n",
              "      <td>0</td>\n",
              "      <td>0</td>\n",
              "      <td>0</td>\n",
              "    </tr>\n",
              "    <tr>\n",
              "      <th>2</th>\n",
              "      <td>0</td>\n",
              "      <td>0</td>\n",
              "      <td>0</td>\n",
              "      <td>0</td>\n",
              "      <td>0</td>\n",
              "      <td>0</td>\n",
              "      <td>0</td>\n",
              "      <td>0</td>\n",
              "      <td>0</td>\n",
              "      <td>0</td>\n",
              "      <td>0</td>\n",
              "      <td>0</td>\n",
              "      <td>0</td>\n",
              "      <td>0</td>\n",
              "      <td>0</td>\n",
              "      <td>0</td>\n",
              "      <td>0</td>\n",
              "      <td>0</td>\n",
              "      <td>0</td>\n",
              "      <td>0</td>\n",
              "      <td>0</td>\n",
              "      <td>0</td>\n",
              "      <td>0</td>\n",
              "      <td>0</td>\n",
              "      <td>0</td>\n",
              "      <td>0</td>\n",
              "      <td>0</td>\n",
              "      <td>0</td>\n",
              "      <td>0</td>\n",
              "      <td>1</td>\n",
              "      <td>0</td>\n",
              "    </tr>\n",
              "    <tr>\n",
              "      <th>3</th>\n",
              "      <td>0</td>\n",
              "      <td>0</td>\n",
              "      <td>0</td>\n",
              "      <td>0</td>\n",
              "      <td>0</td>\n",
              "      <td>0</td>\n",
              "      <td>0</td>\n",
              "      <td>0</td>\n",
              "      <td>0</td>\n",
              "      <td>0</td>\n",
              "      <td>0</td>\n",
              "      <td>0</td>\n",
              "      <td>0</td>\n",
              "      <td>0</td>\n",
              "      <td>0</td>\n",
              "      <td>0</td>\n",
              "      <td>0</td>\n",
              "      <td>0</td>\n",
              "      <td>0</td>\n",
              "      <td>0</td>\n",
              "      <td>1</td>\n",
              "      <td>0</td>\n",
              "      <td>0</td>\n",
              "      <td>0</td>\n",
              "      <td>0</td>\n",
              "      <td>0</td>\n",
              "      <td>0</td>\n",
              "      <td>0</td>\n",
              "      <td>0</td>\n",
              "      <td>0</td>\n",
              "      <td>0</td>\n",
              "    </tr>\n",
              "    <tr>\n",
              "      <th>4</th>\n",
              "      <td>0</td>\n",
              "      <td>0</td>\n",
              "      <td>0</td>\n",
              "      <td>0</td>\n",
              "      <td>0</td>\n",
              "      <td>0</td>\n",
              "      <td>0</td>\n",
              "      <td>0</td>\n",
              "      <td>0</td>\n",
              "      <td>0</td>\n",
              "      <td>0</td>\n",
              "      <td>0</td>\n",
              "      <td>0</td>\n",
              "      <td>0</td>\n",
              "      <td>0</td>\n",
              "      <td>0</td>\n",
              "      <td>0</td>\n",
              "      <td>0</td>\n",
              "      <td>0</td>\n",
              "      <td>0</td>\n",
              "      <td>0</td>\n",
              "      <td>0</td>\n",
              "      <td>0</td>\n",
              "      <td>1</td>\n",
              "      <td>0</td>\n",
              "      <td>0</td>\n",
              "      <td>0</td>\n",
              "      <td>0</td>\n",
              "      <td>0</td>\n",
              "      <td>0</td>\n",
              "      <td>0</td>\n",
              "    </tr>\n",
              "    <tr>\n",
              "      <th>5</th>\n",
              "      <td>0</td>\n",
              "      <td>1</td>\n",
              "      <td>0</td>\n",
              "      <td>0</td>\n",
              "      <td>0</td>\n",
              "      <td>0</td>\n",
              "      <td>0</td>\n",
              "      <td>0</td>\n",
              "      <td>0</td>\n",
              "      <td>0</td>\n",
              "      <td>0</td>\n",
              "      <td>0</td>\n",
              "      <td>0</td>\n",
              "      <td>0</td>\n",
              "      <td>0</td>\n",
              "      <td>0</td>\n",
              "      <td>0</td>\n",
              "      <td>0</td>\n",
              "      <td>0</td>\n",
              "      <td>0</td>\n",
              "      <td>0</td>\n",
              "      <td>0</td>\n",
              "      <td>0</td>\n",
              "      <td>0</td>\n",
              "      <td>0</td>\n",
              "      <td>0</td>\n",
              "      <td>0</td>\n",
              "      <td>0</td>\n",
              "      <td>0</td>\n",
              "      <td>0</td>\n",
              "      <td>0</td>\n",
              "    </tr>\n",
              "  </tbody>\n",
              "</table>\n",
              "</div>"
            ],
            "text/plain": [
              "   Anaheim Ducks  Arizona Coyotes  ...  Washington Capitals  Winnipeg Jets\n",
              "1              0                0  ...                    0              0\n",
              "2              0                0  ...                    1              0\n",
              "3              0                0  ...                    0              0\n",
              "4              0                0  ...                    0              0\n",
              "5              0                1  ...                    0              0\n",
              "\n",
              "[5 rows x 31 columns]"
            ]
          },
          "metadata": {
            "tags": []
          },
          "execution_count": 16
        }
      ]
    },
    {
      "cell_type": "code",
      "metadata": {
        "colab": {
          "base_uri": "https://localhost:8080/",
          "height": 258
        },
        "id": "myZqexZYEPbT",
        "outputId": "98efa866-5a54-4464-aa47-cc53bf7e77d0"
      },
      "source": [
        "df_Home.head()"
      ],
      "execution_count": 17,
      "outputs": [
        {
          "output_type": "execute_result",
          "data": {
            "text/html": [
              "<div>\n",
              "<style scoped>\n",
              "    .dataframe tbody tr th:only-of-type {\n",
              "        vertical-align: middle;\n",
              "    }\n",
              "\n",
              "    .dataframe tbody tr th {\n",
              "        vertical-align: top;\n",
              "    }\n",
              "\n",
              "    .dataframe thead th {\n",
              "        text-align: right;\n",
              "    }\n",
              "</style>\n",
              "<table border=\"1\" class=\"dataframe\">\n",
              "  <thead>\n",
              "    <tr style=\"text-align: right;\">\n",
              "      <th></th>\n",
              "      <th>Anaheim Ducks</th>\n",
              "      <th>Arizona Coyotes</th>\n",
              "      <th>Boston Bruins</th>\n",
              "      <th>Buffalo Sabres</th>\n",
              "      <th>Calgary Flames</th>\n",
              "      <th>Carolina Hurricanes</th>\n",
              "      <th>Chicago Blackhawks</th>\n",
              "      <th>Colorado Avalanche</th>\n",
              "      <th>Columbus Blue Jackets</th>\n",
              "      <th>Dallas Stars</th>\n",
              "      <th>Detroit Red Wings</th>\n",
              "      <th>Edmonton Oilers</th>\n",
              "      <th>Florida Panthers</th>\n",
              "      <th>Los Angeles Kings</th>\n",
              "      <th>Minnesota Wild</th>\n",
              "      <th>Montreal Canadiens</th>\n",
              "      <th>Nashville Predators</th>\n",
              "      <th>New Jersey Devils</th>\n",
              "      <th>New York Islanders</th>\n",
              "      <th>New York Rangers</th>\n",
              "      <th>Ottawa Senators</th>\n",
              "      <th>Philadelphia Flyers</th>\n",
              "      <th>Pittsburgh Penguins</th>\n",
              "      <th>San Jose Sharks</th>\n",
              "      <th>St. Louis Blues</th>\n",
              "      <th>Tampa Bay Lightning</th>\n",
              "      <th>Toronto Maple Leafs</th>\n",
              "      <th>Vancouver Canucks</th>\n",
              "      <th>Vegas Golden Knights</th>\n",
              "      <th>Washington Capitals</th>\n",
              "      <th>Winnipeg Jets</th>\n",
              "    </tr>\n",
              "  </thead>\n",
              "  <tbody>\n",
              "    <tr>\n",
              "      <th>1</th>\n",
              "      <td>0</td>\n",
              "      <td>0</td>\n",
              "      <td>0</td>\n",
              "      <td>0</td>\n",
              "      <td>0</td>\n",
              "      <td>0</td>\n",
              "      <td>0</td>\n",
              "      <td>0</td>\n",
              "      <td>0</td>\n",
              "      <td>0</td>\n",
              "      <td>0</td>\n",
              "      <td>1</td>\n",
              "      <td>0</td>\n",
              "      <td>0</td>\n",
              "      <td>0</td>\n",
              "      <td>0</td>\n",
              "      <td>0</td>\n",
              "      <td>0</td>\n",
              "      <td>0</td>\n",
              "      <td>0</td>\n",
              "      <td>0</td>\n",
              "      <td>0</td>\n",
              "      <td>0</td>\n",
              "      <td>0</td>\n",
              "      <td>0</td>\n",
              "      <td>0</td>\n",
              "      <td>0</td>\n",
              "      <td>0</td>\n",
              "      <td>0</td>\n",
              "      <td>0</td>\n",
              "      <td>0</td>\n",
              "    </tr>\n",
              "    <tr>\n",
              "      <th>2</th>\n",
              "      <td>0</td>\n",
              "      <td>0</td>\n",
              "      <td>0</td>\n",
              "      <td>0</td>\n",
              "      <td>0</td>\n",
              "      <td>0</td>\n",
              "      <td>0</td>\n",
              "      <td>0</td>\n",
              "      <td>0</td>\n",
              "      <td>0</td>\n",
              "      <td>0</td>\n",
              "      <td>0</td>\n",
              "      <td>0</td>\n",
              "      <td>0</td>\n",
              "      <td>0</td>\n",
              "      <td>0</td>\n",
              "      <td>0</td>\n",
              "      <td>0</td>\n",
              "      <td>0</td>\n",
              "      <td>0</td>\n",
              "      <td>0</td>\n",
              "      <td>0</td>\n",
              "      <td>0</td>\n",
              "      <td>0</td>\n",
              "      <td>1</td>\n",
              "      <td>0</td>\n",
              "      <td>0</td>\n",
              "      <td>0</td>\n",
              "      <td>0</td>\n",
              "      <td>0</td>\n",
              "      <td>0</td>\n",
              "    </tr>\n",
              "    <tr>\n",
              "      <th>3</th>\n",
              "      <td>0</td>\n",
              "      <td>0</td>\n",
              "      <td>0</td>\n",
              "      <td>0</td>\n",
              "      <td>0</td>\n",
              "      <td>0</td>\n",
              "      <td>0</td>\n",
              "      <td>0</td>\n",
              "      <td>0</td>\n",
              "      <td>0</td>\n",
              "      <td>0</td>\n",
              "      <td>0</td>\n",
              "      <td>0</td>\n",
              "      <td>0</td>\n",
              "      <td>0</td>\n",
              "      <td>0</td>\n",
              "      <td>0</td>\n",
              "      <td>0</td>\n",
              "      <td>0</td>\n",
              "      <td>0</td>\n",
              "      <td>0</td>\n",
              "      <td>0</td>\n",
              "      <td>0</td>\n",
              "      <td>0</td>\n",
              "      <td>0</td>\n",
              "      <td>0</td>\n",
              "      <td>1</td>\n",
              "      <td>0</td>\n",
              "      <td>0</td>\n",
              "      <td>0</td>\n",
              "      <td>0</td>\n",
              "    </tr>\n",
              "    <tr>\n",
              "      <th>4</th>\n",
              "      <td>0</td>\n",
              "      <td>0</td>\n",
              "      <td>0</td>\n",
              "      <td>0</td>\n",
              "      <td>0</td>\n",
              "      <td>0</td>\n",
              "      <td>0</td>\n",
              "      <td>0</td>\n",
              "      <td>0</td>\n",
              "      <td>0</td>\n",
              "      <td>0</td>\n",
              "      <td>0</td>\n",
              "      <td>0</td>\n",
              "      <td>0</td>\n",
              "      <td>0</td>\n",
              "      <td>0</td>\n",
              "      <td>0</td>\n",
              "      <td>0</td>\n",
              "      <td>0</td>\n",
              "      <td>0</td>\n",
              "      <td>0</td>\n",
              "      <td>0</td>\n",
              "      <td>0</td>\n",
              "      <td>0</td>\n",
              "      <td>0</td>\n",
              "      <td>0</td>\n",
              "      <td>0</td>\n",
              "      <td>0</td>\n",
              "      <td>1</td>\n",
              "      <td>0</td>\n",
              "      <td>0</td>\n",
              "    </tr>\n",
              "    <tr>\n",
              "      <th>5</th>\n",
              "      <td>1</td>\n",
              "      <td>0</td>\n",
              "      <td>0</td>\n",
              "      <td>0</td>\n",
              "      <td>0</td>\n",
              "      <td>0</td>\n",
              "      <td>0</td>\n",
              "      <td>0</td>\n",
              "      <td>0</td>\n",
              "      <td>0</td>\n",
              "      <td>0</td>\n",
              "      <td>0</td>\n",
              "      <td>0</td>\n",
              "      <td>0</td>\n",
              "      <td>0</td>\n",
              "      <td>0</td>\n",
              "      <td>0</td>\n",
              "      <td>0</td>\n",
              "      <td>0</td>\n",
              "      <td>0</td>\n",
              "      <td>0</td>\n",
              "      <td>0</td>\n",
              "      <td>0</td>\n",
              "      <td>0</td>\n",
              "      <td>0</td>\n",
              "      <td>0</td>\n",
              "      <td>0</td>\n",
              "      <td>0</td>\n",
              "      <td>0</td>\n",
              "      <td>0</td>\n",
              "      <td>0</td>\n",
              "    </tr>\n",
              "  </tbody>\n",
              "</table>\n",
              "</div>"
            ],
            "text/plain": [
              "   Anaheim Ducks  Arizona Coyotes  ...  Washington Capitals  Winnipeg Jets\n",
              "1              0                0  ...                    0              0\n",
              "2              0                0  ...                    0              0\n",
              "3              0                0  ...                    0              0\n",
              "4              0                0  ...                    0              0\n",
              "5              1                0  ...                    0              0\n",
              "\n",
              "[5 rows x 31 columns]"
            ]
          },
          "metadata": {
            "tags": []
          },
          "execution_count": 17
        }
      ]
    },
    {
      "cell_type": "code",
      "metadata": {
        "id": "2uKlvyZ5EO-3"
      },
      "source": [
        "# subtract home from visitor\n",
        "df_model = df_Home.sub(df_Visitor) \n",
        "df_model['g_diff'] = df['g_diff']"
      ],
      "execution_count": 18,
      "outputs": []
    },
    {
      "cell_type": "code",
      "metadata": {
        "colab": {
          "base_uri": "https://localhost:8080/"
        },
        "id": "I2g7iqBkE_yx",
        "outputId": "1150c02b-2fc5-48c8-9b97-9acbd3b7b4db"
      },
      "source": [
        "df_train = df_model \n",
        "\n",
        "lr = Ridge(alpha=0.001) \n",
        "X = df_train.drop(['g_diff'], axis=1)\n",
        "y = df_train['g_diff']\n",
        "\n",
        "lr.fit(X, y)"
      ],
      "execution_count": 19,
      "outputs": [
        {
          "output_type": "execute_result",
          "data": {
            "text/plain": [
              "Ridge(alpha=0.001, copy_X=True, fit_intercept=True, max_iter=None,\n",
              "      normalize=False, random_state=None, solver='auto', tol=0.001)"
            ]
          },
          "metadata": {
            "tags": []
          },
          "execution_count": 19
        }
      ]
    },
    {
      "cell_type": "code",
      "metadata": {
        "colab": {
          "base_uri": "https://localhost:8080/",
          "height": 1000
        },
        "id": "2PF8x8prFgI2",
        "outputId": "b56a685f-f4ca-4822-d4c2-cfb9d815246b"
      },
      "source": [
        "df_ratings = pd.DataFrame(data={'team': X.columns, 'rating': lr.coef_})\n",
        "df_ratings"
      ],
      "execution_count": 20,
      "outputs": [
        {
          "output_type": "execute_result",
          "data": {
            "text/html": [
              "<div>\n",
              "<style scoped>\n",
              "    .dataframe tbody tr th:only-of-type {\n",
              "        vertical-align: middle;\n",
              "    }\n",
              "\n",
              "    .dataframe tbody tr th {\n",
              "        vertical-align: top;\n",
              "    }\n",
              "\n",
              "    .dataframe thead th {\n",
              "        text-align: right;\n",
              "    }\n",
              "</style>\n",
              "<table border=\"1\" class=\"dataframe\">\n",
              "  <thead>\n",
              "    <tr style=\"text-align: right;\">\n",
              "      <th></th>\n",
              "      <th>team</th>\n",
              "      <th>rating</th>\n",
              "    </tr>\n",
              "  </thead>\n",
              "  <tbody>\n",
              "    <tr>\n",
              "      <th>0</th>\n",
              "      <td>Anaheim Ducks</td>\n",
              "      <td>-0.576006</td>\n",
              "    </tr>\n",
              "    <tr>\n",
              "      <th>1</th>\n",
              "      <td>Arizona Coyotes</td>\n",
              "      <td>0.173415</td>\n",
              "    </tr>\n",
              "    <tr>\n",
              "      <th>2</th>\n",
              "      <td>Boston Bruins</td>\n",
              "      <td>0.723737</td>\n",
              "    </tr>\n",
              "    <tr>\n",
              "      <th>3</th>\n",
              "      <td>Buffalo Sabres</td>\n",
              "      <td>-0.190159</td>\n",
              "    </tr>\n",
              "    <tr>\n",
              "      <th>4</th>\n",
              "      <td>Calgary Flames</td>\n",
              "      <td>-0.212756</td>\n",
              "    </tr>\n",
              "    <tr>\n",
              "      <th>5</th>\n",
              "      <td>Carolina Hurricanes</td>\n",
              "      <td>0.494470</td>\n",
              "    </tr>\n",
              "    <tr>\n",
              "      <th>6</th>\n",
              "      <td>Chicago Blackhawks</td>\n",
              "      <td>-0.272586</td>\n",
              "    </tr>\n",
              "    <tr>\n",
              "      <th>7</th>\n",
              "      <td>Colorado Avalanche</td>\n",
              "      <td>0.813188</td>\n",
              "    </tr>\n",
              "    <tr>\n",
              "      <th>8</th>\n",
              "      <td>Columbus Blue Jackets</td>\n",
              "      <td>-0.091216</td>\n",
              "    </tr>\n",
              "    <tr>\n",
              "      <th>9</th>\n",
              "      <td>Dallas Stars</td>\n",
              "      <td>0.263610</td>\n",
              "    </tr>\n",
              "    <tr>\n",
              "      <th>10</th>\n",
              "      <td>Detroit Red Wings</td>\n",
              "      <td>-1.680104</td>\n",
              "    </tr>\n",
              "    <tr>\n",
              "      <th>11</th>\n",
              "      <td>Edmonton Oilers</td>\n",
              "      <td>-0.291695</td>\n",
              "    </tr>\n",
              "    <tr>\n",
              "      <th>12</th>\n",
              "      <td>Florida Panthers</td>\n",
              "      <td>0.228150</td>\n",
              "    </tr>\n",
              "    <tr>\n",
              "      <th>13</th>\n",
              "      <td>Los Angeles Kings</td>\n",
              "      <td>-0.629266</td>\n",
              "    </tr>\n",
              "    <tr>\n",
              "      <th>14</th>\n",
              "      <td>Minnesota Wild</td>\n",
              "      <td>-0.154663</td>\n",
              "    </tr>\n",
              "    <tr>\n",
              "      <th>15</th>\n",
              "      <td>Montreal Canadiens</td>\n",
              "      <td>0.017761</td>\n",
              "    </tr>\n",
              "    <tr>\n",
              "      <th>16</th>\n",
              "      <td>Nashville Predators</td>\n",
              "      <td>0.019805</td>\n",
              "    </tr>\n",
              "    <tr>\n",
              "      <th>17</th>\n",
              "      <td>New Jersey Devils</td>\n",
              "      <td>-0.799886</td>\n",
              "    </tr>\n",
              "    <tr>\n",
              "      <th>18</th>\n",
              "      <td>New York Islanders</td>\n",
              "      <td>0.341192</td>\n",
              "    </tr>\n",
              "    <tr>\n",
              "      <th>19</th>\n",
              "      <td>New York Rangers</td>\n",
              "      <td>-0.113586</td>\n",
              "    </tr>\n",
              "    <tr>\n",
              "      <th>20</th>\n",
              "      <td>Ottawa Senators</td>\n",
              "      <td>-0.559626</td>\n",
              "    </tr>\n",
              "    <tr>\n",
              "      <th>21</th>\n",
              "      <td>Philadelphia Flyers</td>\n",
              "      <td>0.163889</td>\n",
              "    </tr>\n",
              "    <tr>\n",
              "      <th>22</th>\n",
              "      <td>Pittsburgh Penguins</td>\n",
              "      <td>0.686438</td>\n",
              "    </tr>\n",
              "    <tr>\n",
              "      <th>23</th>\n",
              "      <td>San Jose Sharks</td>\n",
              "      <td>-0.776105</td>\n",
              "    </tr>\n",
              "    <tr>\n",
              "      <th>24</th>\n",
              "      <td>St. Louis Blues</td>\n",
              "      <td>0.462697</td>\n",
              "    </tr>\n",
              "    <tr>\n",
              "      <th>25</th>\n",
              "      <td>Tampa Bay Lightning</td>\n",
              "      <td>0.513710</td>\n",
              "    </tr>\n",
              "    <tr>\n",
              "      <th>26</th>\n",
              "      <td>Toronto Maple Leafs</td>\n",
              "      <td>0.419998</td>\n",
              "    </tr>\n",
              "    <tr>\n",
              "      <th>27</th>\n",
              "      <td>Vancouver Canucks</td>\n",
              "      <td>0.231913</td>\n",
              "    </tr>\n",
              "    <tr>\n",
              "      <th>28</th>\n",
              "      <td>Vegas Golden Knights</td>\n",
              "      <td>0.125138</td>\n",
              "    </tr>\n",
              "    <tr>\n",
              "      <th>29</th>\n",
              "      <td>Washington Capitals</td>\n",
              "      <td>0.700567</td>\n",
              "    </tr>\n",
              "    <tr>\n",
              "      <th>30</th>\n",
              "      <td>Winnipeg Jets</td>\n",
              "      <td>-0.032026</td>\n",
              "    </tr>\n",
              "  </tbody>\n",
              "</table>\n",
              "</div>"
            ],
            "text/plain": [
              "                     team    rating\n",
              "0           Anaheim Ducks -0.576006\n",
              "1         Arizona Coyotes  0.173415\n",
              "2           Boston Bruins  0.723737\n",
              "3          Buffalo Sabres -0.190159\n",
              "4          Calgary Flames -0.212756\n",
              "5     Carolina Hurricanes  0.494470\n",
              "6      Chicago Blackhawks -0.272586\n",
              "7      Colorado Avalanche  0.813188\n",
              "8   Columbus Blue Jackets -0.091216\n",
              "9            Dallas Stars  0.263610\n",
              "10      Detroit Red Wings -1.680104\n",
              "11        Edmonton Oilers -0.291695\n",
              "12       Florida Panthers  0.228150\n",
              "13      Los Angeles Kings -0.629266\n",
              "14         Minnesota Wild -0.154663\n",
              "15     Montreal Canadiens  0.017761\n",
              "16    Nashville Predators  0.019805\n",
              "17      New Jersey Devils -0.799886\n",
              "18     New York Islanders  0.341192\n",
              "19       New York Rangers -0.113586\n",
              "20        Ottawa Senators -0.559626\n",
              "21    Philadelphia Flyers  0.163889\n",
              "22    Pittsburgh Penguins  0.686438\n",
              "23        San Jose Sharks -0.776105\n",
              "24        St. Louis Blues  0.462697\n",
              "25    Tampa Bay Lightning  0.513710\n",
              "26    Toronto Maple Leafs  0.419998\n",
              "27      Vancouver Canucks  0.231913\n",
              "28   Vegas Golden Knights  0.125138\n",
              "29    Washington Capitals  0.700567\n",
              "30          Winnipeg Jets -0.032026"
            ]
          },
          "metadata": {
            "tags": []
          },
          "execution_count": 20
        }
      ]
    },
    {
      "cell_type": "code",
      "metadata": {
        "colab": {
          "base_uri": "https://localhost:8080/",
          "height": 231
        },
        "id": "M8dvFGRfGoS0",
        "outputId": "936ad8f4-ca43-49b7-9ba9-3cd000cda197"
      },
      "source": [
        "import plotly.express as px\n",
        "data = df1\n",
        "# Use directly Columns as argument. You can use tab completion for this!\n",
        "fig = px.scatter(df1, x=df1.Player, y=df1.Team, size=df1.Win)\n",
        "fig.show()"
      ],
      "execution_count": 21,
      "outputs": [
        {
          "output_type": "error",
          "ename": "NameError",
          "evalue": "ignored",
          "traceback": [
            "\u001b[0;31m---------------------------------------------------------------------------\u001b[0m",
            "\u001b[0;31mNameError\u001b[0m                                 Traceback (most recent call last)",
            "\u001b[0;32m<ipython-input-21-e9a99a907ce8>\u001b[0m in \u001b[0;36m<module>\u001b[0;34m()\u001b[0m\n\u001b[1;32m      1\u001b[0m \u001b[0;32mimport\u001b[0m \u001b[0mplotly\u001b[0m\u001b[0;34m.\u001b[0m\u001b[0mexpress\u001b[0m \u001b[0;32mas\u001b[0m \u001b[0mpx\u001b[0m\u001b[0;34m\u001b[0m\u001b[0;34m\u001b[0m\u001b[0m\n\u001b[0;32m----> 2\u001b[0;31m \u001b[0mdata\u001b[0m \u001b[0;34m=\u001b[0m \u001b[0mdf1\u001b[0m\u001b[0;34m\u001b[0m\u001b[0;34m\u001b[0m\u001b[0m\n\u001b[0m\u001b[1;32m      3\u001b[0m \u001b[0;31m# Use directly Columns as argument. You can use tab completion for this!\u001b[0m\u001b[0;34m\u001b[0m\u001b[0;34m\u001b[0m\u001b[0;34m\u001b[0m\u001b[0m\n\u001b[1;32m      4\u001b[0m \u001b[0mfig\u001b[0m \u001b[0;34m=\u001b[0m \u001b[0mpx\u001b[0m\u001b[0;34m.\u001b[0m\u001b[0mscatter\u001b[0m\u001b[0;34m(\u001b[0m\u001b[0mdf1\u001b[0m\u001b[0;34m,\u001b[0m \u001b[0mx\u001b[0m\u001b[0;34m=\u001b[0m\u001b[0mdf1\u001b[0m\u001b[0;34m.\u001b[0m\u001b[0mPlayer\u001b[0m\u001b[0;34m,\u001b[0m \u001b[0my\u001b[0m\u001b[0;34m=\u001b[0m\u001b[0mdf1\u001b[0m\u001b[0;34m.\u001b[0m\u001b[0mTeam\u001b[0m\u001b[0;34m,\u001b[0m \u001b[0msize\u001b[0m\u001b[0;34m=\u001b[0m\u001b[0mdf1\u001b[0m\u001b[0;34m.\u001b[0m\u001b[0mWin\u001b[0m\u001b[0;34m)\u001b[0m\u001b[0;34m\u001b[0m\u001b[0;34m\u001b[0m\u001b[0m\n\u001b[1;32m      5\u001b[0m \u001b[0mfig\u001b[0m\u001b[0;34m.\u001b[0m\u001b[0mshow\u001b[0m\u001b[0;34m(\u001b[0m\u001b[0;34m)\u001b[0m\u001b[0;34m\u001b[0m\u001b[0;34m\u001b[0m\u001b[0m\n",
            "\u001b[0;31mNameError\u001b[0m: name 'df1' is not defined"
          ]
        }
      ]
    },
    {
      "cell_type": "code",
      "metadata": {
        "id": "iI4YsLWtGGnY"
      },
      "source": [
        "import plotly.express as px\n",
        "data = df_ratings\n",
        "# Use directly Columns as argument. You can use tab completion for this!\n",
        "fig = px.scatter(df_ratings, x=df_ratings.team, y=df_ratings.rating)\n",
        "fig.show()"
      ],
      "execution_count": null,
      "outputs": []
    },
    {
      "cell_type": "markdown",
      "metadata": {
        "id": "UfbS25PFHb9d"
      },
      "source": [
        "Team Colorado Avalanche has the highest ratings"
      ]
    },
    {
      "cell_type": "code",
      "metadata": {
        "id": "D4ynQkztIwxc"
      },
      "source": [
        "import seaborn as sns\n",
        "import matplotlib.pyplot as plt"
      ],
      "execution_count": 22,
      "outputs": []
    },
    {
      "cell_type": "code",
      "metadata": {
        "id": "olHh6JYBQwpx"
      },
      "source": [
        "import numpy as np\n",
        "import matplotlib.pyplot as plt\n",
        "import matplotlib as mpl\n",
        "from cycler import cycler\n"
      ],
      "execution_count": 23,
      "outputs": []
    },
    {
      "cell_type": "code",
      "metadata": {
        "id": "XuJpvFGQTTC0"
      },
      "source": [
        "penguins = sns.load_dataset(\"penguins\")\n",
        "sns.histplot(data=penguins, x=\"flipper_length_mm\""
      ],
      "execution_count": null,
      "outputs": []
    },
    {
      "cell_type": "code",
      "metadata": {
        "colab": {
          "base_uri": "https://localhost:8080/",
          "height": 317
        },
        "id": "P9KhFa_VTZQG",
        "outputId": "37ca8067-554c-4209-91b8-5002d5b0c045"
      },
      "source": [
        "import numpy as np\n",
        "plt.hist('df_ratings')"
      ],
      "execution_count": 30,
      "outputs": [
        {
          "output_type": "execute_result",
          "data": {
            "text/plain": [
              "(array([0., 0., 0., 0., 0., 1., 0., 0., 0., 0.]),\n",
              " array([-0.5, -0.4, -0.3, -0.2, -0.1,  0. ,  0.1,  0.2,  0.3,  0.4,  0.5]),\n",
              " <a list of 10 Patch objects>)"
            ]
          },
          "metadata": {
            "tags": []
          },
          "execution_count": 30
        },
        {
          "output_type": "display_data",
          "data": {
            "image/png": "[encoded data removed]",
            "text/plain": [
              "<Figure size 432x288 with 1 Axes>"
            ]
          },
          "metadata": {
            "tags": [],
            "needs_background": "light"
          }
        }
      ]
    },
    {
      "cell_type": "code",
      "metadata": {
        "colab": {
          "base_uri": "https://localhost:8080/",
          "height": 400
        },
        "id": "SL9HnIO8aR51",
        "outputId": "d58416ff-0c28-4097-baa2-b211db90b939"
      },
      "source": [
        "df_ratings.plot(kind='bar', x = 'team', y = 'rating')"
      ],
      "execution_count": 35,
      "outputs": [
        {
          "output_type": "execute_result",
          "data": {
            "text/plain": [
              "<matplotlib.axes._subplots.AxesSubplot at 0x7fe7c76296d8>"
            ]
          },
          "metadata": {
            "tags": []
          },
          "execution_count": 35
        },
        {
          "output_type": "display_data",
          "data": {
            "image/png": "[encoded data removed]",
            "text/plain": [
              "<Figure size 432x288 with 1 Axes>"
            ]
          },
          "metadata": {
            "tags": [],
            "needs_background": "light"
          }
        }
      ]
    },
    {
      "cell_type": "markdown",
      "metadata": {
        "id": "LdLRmJXnm-9C"
      },
      "source": [
        "![sport bet images.webp](data:image/webp;base64,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)"
      ]
    },
    {
      "cell_type": "markdown",
      "metadata": {
        "id": "E1ulgOLgnGKN"
      },
      "source": [
        "***This Notebook is authored by Mary Adewunmi***"
      ]
    }
  ]
}